{
 "cells": [
  {
   "cell_type": "markdown",
   "metadata": {},
   "source": [
    "# Project 01 - Color Compression"
   ]
  },
  {
   "cell_type": "markdown",
   "metadata": {},
   "source": [
    "## Thông tin sinh viên"
   ]
  },
  {
   "cell_type": "markdown",
   "metadata": {},
   "source": [
    "- Họ và tên: Tô Quốc Thanh\n",
    "- MSSV: 22127388\n",
    "- Lớp: 22CLC10"
   ]
  },
  {
   "cell_type": "markdown",
   "metadata": {},
   "source": [
    "## Import các thư viện liên quan"
   ]
  },
  {
   "cell_type": "code",
   "execution_count": 843,
   "metadata": {},
   "outputs": [],
   "source": [
    "import numpy as np\n",
    "import matplotlib.pyplot as plt \n",
    "import matplotlib.image as img "
   ]
  },
  {
   "cell_type": "markdown",
   "metadata": {},
   "source": [
    "## Helper functions"
   ]
  },
  {
   "cell_type": "code",
   "execution_count": 1105,
   "metadata": {},
   "outputs": [],
   "source": [
    "def read_img(img_path):\n",
    "    return img.imread(img_path)\n",
    "\n",
    "def show_img(img_2d):\n",
    "    plt.imshow(img_2d)\n",
    "\n",
    "def save_img(img_2d, img_path):\n",
    "    plt.imsave(img_path, img_2d)\n",
    "\n",
    "def convert_img_to_1d(img_2d):\n",
    "    new_img = [elements for rows in img_2d for elements in rows]\n",
    "    return new_img\n",
    "\n",
    "def kmeans(img_1d, k_clusters, max_iter, init_centroids='in_pixels'):\n",
    "    img_1d = np.array(img_1d, dtype = 'int32') \n",
    "    \n",
    "    # Initialize centroids\n",
    "    if init_centroids == 'random':\n",
    "        centroids = np.random.randint(0, 256, size=(k_clusters, img_1d.shape[1]))\n",
    "    elif init_centroids == 'in_pixels':\n",
    "        unique_colors = np.unique(img_1d, axis=0)\n",
    "        random_index = np.random.choice(unique_colors.shape[0], k_clusters, replace=False)\n",
    "        centroids = unique_colors[random_index]\n",
    "\n",
    "    labels = np.zeros(img_1d.shape[0], dtype = 'int32')\n",
    "\n",
    "    for _ in range(max_iter):\n",
    "        distances = np.linalg.norm(img_1d[:, np.newaxis] - centroids, axis=2)\n",
    "        new_labels = np.argmin(distances, axis=1)\n",
    "\n",
    "        if np.array_equal(new_labels, labels):\n",
    "            break\n",
    "        labels = new_labels\n",
    "\n",
    "    # Update centroids\n",
    "    for k in range(k_clusters):\n",
    "        if np.any(labels == k):\n",
    "            centroids[k] = img_1d[labels == k].mean(axis=0)\n",
    "        else:\n",
    "            centroids[k] = img_1d.mean(axis=0) \n",
    "            \n",
    "    return centroids, labels\n",
    "\n",
    "def generate_2d_img(img_2d_shape, centroids, labels):\n",
    "    new_img = centroids[labels].reshape(img_2d_shape)\n",
    "    return np.array(new_img, dtype='uint8')\n",
    "\n",
    "# Your additional functions here\n",
    "def is_valid_image_extension(file_name):\n",
    "    valid_extensions = ['.png', '.jpg', '.jpeg','.pdf']\n",
    "    return any(file_name.lower().endswith(e) for e in valid_extensions)"
   ]
  },
  {
   "attachments": {},
   "cell_type": "markdown",
   "metadata": {},
   "source": [
    "## Your tests"
   ]
  },
  {
   "cell_type": "code",
   "execution_count": null,
   "metadata": {},
   "outputs": [],
   "source": [
    "# img_path = 'img.jpg'  \n",
    "# img_2d = read_img(img_path)\n",
    "# img_1d = convert_img_to_1d(img_2d)\n",
    "# k_clusters = 7\n",
    "# max_iter = 100\n",
    "# tmp = kmeans(img_1d, k_clusters, max_iter,'in_pixels')\n",
    "# new_img_2d = generate_2d_img(img_2d.shape, tmp[0], tmp[1])\n",
    "# show_img(new_img_2d)"
   ]
  },
  {
   "cell_type": "markdown",
   "metadata": {},
   "source": [
    "## Main FUNCTION"
   ]
  },
  {
   "cell_type": "code",
   "execution_count": 1107,
   "metadata": {},
   "outputs": [],
   "source": [
    "# YOUR CODE HERE\n",
    "def main():\n",
    "    while True:\n",
    "        img_path = input(\"Enter the path to the image (including filename and extension): \")\n",
    "        try:\n",
    "            img_2d = read_img(img_path)\n",
    "            break\n",
    "        except FileNotFoundError:\n",
    "            print(\"File does not exist. Please enter a valid file path.\")\n",
    "\n",
    "    img_1d = convert_img_to_1d(img_2d)\n",
    "    \n",
    "    while True:\n",
    "        try:\n",
    "            k_clusters = int(input(\"Enter the number of clusters: \"))\n",
    "            if k_clusters <= 0:\n",
    "                raise ValueError\n",
    "            break\n",
    "        except ValueError:\n",
    "            print(\"Invalid input. Please enter a positive integer for the number of clusters.\")\n",
    "    \n",
    "    while True:\n",
    "        try:\n",
    "            max_iter = int(input(\"Enter the maximum number of iterations: \"))\n",
    "            if max_iter <= 0:\n",
    "                raise ValueError\n",
    "            break\n",
    "        except ValueError:\n",
    "            print(\"Invalid input. Please enter a positive integer for the maximum number of iterations.\")\n",
    "    \n",
    "    while True:\n",
    "        init_centroids = input(\"Enter the method to initialize centroids (random/in_pixels): \")\n",
    "        if init_centroids not in ['random', 'in_pixels']:\n",
    "            print(\"Invalid input. Please enter 'random' or 'in_pixels'.\")\n",
    "            continue\n",
    "        break\n",
    "    centroids, labels = kmeans(img_1d, k_clusters, max_iter,init_centroids)\n",
    "    new_img_2d = generate_2d_img(img_2d.shape, centroids, labels)\n",
    "    show_img(new_img_2d)\n",
    "    \n",
    "    while True:\n",
    "        save_path = input(\"Enter the path to save the segmented image (including filename and extension): \")\n",
    "        if not is_valid_image_extension(save_path):\n",
    "            print(\"Invalid file extension. Please enter an save path with one of the following extensions: .png, .jpg, .jpeg, .bmp, .tiff, .pdf\")\n",
    "            continue\n",
    "        try:\n",
    "            save_img(new_img_2d, save_path)\n",
    "            break\n",
    "        except IOError as e:\n",
    "            print(e)\n",
    "            \n",
    "    print(\"Successfully saved the image!\")"
   ]
  },
  {
   "cell_type": "code",
   "execution_count": null,
   "metadata": {},
   "outputs": [],
   "source": [
    "# Call main function\n",
    "if __name__ == \"__main__\":\n",
    "    main()"
   ]
  }
 ],
 "metadata": {
  "kernelspec": {
   "display_name": "Python 3",
   "language": "python",
   "name": "python3"
  },
  "language_info": {
   "codemirror_mode": {
    "name": "ipython",
    "version": 3
   },
   "file_extension": ".py",
   "mimetype": "text/x-python",
   "name": "python",
   "nbconvert_exporter": "python",
   "pygments_lexer": "ipython3",
   "version": "3.11.9"
  }
 },
 "nbformat": 4,
 "nbformat_minor": 4
}
